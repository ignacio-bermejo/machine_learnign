{
 "cells": [
  {
   "cell_type": "markdown",
   "metadata": {},
   "source": [
    "## Introducción al Machine Learning \n",
    "### Regresión Lineal, Correlación Serial y Generación de Características"
   ]
  },
  {
   "cell_type": "markdown",
   "metadata": {},
   "source": [
    "Este ejemplo muestra como una regresión lineal simple muestra el problema de \n",
    "una correlación serial, y como se puede corregir introdiciendo una nueva característca"
   ]
  },
  {
   "cell_type": "code",
   "execution_count": null,
   "metadata": {},
   "outputs": [],
   "source": [
    "import pandas as pd\n",
    "import numpy as np\n",
    "import matplotlib.pyplot as plt"
   ]
  },
  {
   "cell_type": "markdown",
   "metadata": {},
   "source": [
    "### Prima Seguro\n",
    "El problema consiste en reconstruir la función que utiliza una \n",
    "entidad para asignar la prima de seguro de vida para una hipoteca\n",
    "dado que al cliente solo le muestran a modo de ejemplo una tabla con la prima a \n",
    "pagar sobre un monto particular. \n",
    "El fichero de datos contiene para cada edad la prima a pagar por cada 100K de hipoteca"
   ]
  },
  {
   "cell_type": "code",
   "execution_count": null,
   "metadata": {},
   "outputs": [],
   "source": [
    "prima_seguro = pd.read_csv('../data/prima_seguro.csv')"
   ]
  },
  {
   "cell_type": "code",
   "execution_count": null,
   "metadata": {},
   "outputs": [],
   "source": [
    "plt.scatter(prima_seguro.edad, prima_seguro.prima)"
   ]
  },
  {
   "cell_type": "code",
   "execution_count": null,
   "metadata": {},
   "outputs": [],
   "source": [
    "prima_seguro.head()"
   ]
  },
  {
   "cell_type": "markdown",
   "metadata": {},
   "source": [
    "Haremos la estimación de los parámetros de la regresión lineal\n",
    "a partir de la fórmula y con la librería sklearn"
   ]
  },
  {
   "cell_type": "markdown",
   "metadata": {},
   "source": [
    "$$ \\beta = \\frac{cov(X,Y)}{var(X)} $$"
   ]
  },
  {
   "cell_type": "markdown",
   "metadata": {},
   "source": [
    "$$ \\alpha = \\bar{Y} - \\beta\\bar{X}$$"
   ]
  },
  {
   "cell_type": "markdown",
   "metadata": {},
   "source": [
    "Numpy calcula una matriz de covarianzas para un conjunto de variables"
   ]
  },
  {
   "cell_type": "code",
   "execution_count": null,
   "metadata": {},
   "outputs": [],
   "source": [
    "np.cov(prima_seguro.edad, prima_seguro.prima)"
   ]
  },
  {
   "cell_type": "code",
   "execution_count": null,
   "metadata": {},
   "outputs": [],
   "source": [
    "cov_prima = np.cov(prima_seguro.edad, prima_seguro.prima)[1][0]\n",
    "cov_prima"
   ]
  },
  {
   "cell_type": "code",
   "execution_count": null,
   "metadata": {},
   "outputs": [],
   "source": [
    "var_edad = np.var(prima_seguro.edad)\n",
    "var_edad"
   ]
  },
  {
   "cell_type": "code",
   "execution_count": null,
   "metadata": {},
   "outputs": [],
   "source": [
    "beta = cov_prima/var_edad\n",
    "beta"
   ]
  },
  {
   "cell_type": "code",
   "execution_count": null,
   "metadata": {},
   "outputs": [],
   "source": [
    "alpha = np.average(prima_seguro.prima) - beta*np.average(prima_seguro.edad)\n",
    "alpha"
   ]
  },
  {
   "cell_type": "markdown",
   "metadata": {},
   "source": [
    "Hacemos la gráfica para verificar como se ajusta la recta\n",
    "a la muestra de puntos. Para la recta necesitamos dos puntos (x,y)"
   ]
  },
  {
   "cell_type": "code",
   "execution_count": null,
   "metadata": {},
   "outputs": [],
   "source": [
    "X = np.array([18, 75])\n",
    "Y = alpha + beta*X\n",
    "print(X)\n",
    "print(Y)"
   ]
  },
  {
   "cell_type": "code",
   "execution_count": null,
   "metadata": {},
   "outputs": [],
   "source": [
    "plt.plot(X,Y, 'r')\n",
    "plt.scatter(prima_seguro.edad, prima_seguro.prima)\n",
    "plt.grid(True)"
   ]
  },
  {
   "cell_type": "markdown",
   "metadata": {},
   "source": [
    "Hecemos la misma regresión pero con la regresión lineal de sklearn"
   ]
  },
  {
   "cell_type": "code",
   "execution_count": null,
   "metadata": {},
   "outputs": [],
   "source": [
    "from sklearn.linear_model import LinearRegression"
   ]
  },
  {
   "cell_type": "markdown",
   "metadata": {},
   "source": [
    "Como tenemos un vector con la variable independiente, necesitamos llevarla \n",
    "a una matriz (N,1) haciendo el reshape "
   ]
  },
  {
   "cell_type": "code",
   "execution_count": null,
   "metadata": {},
   "outputs": [],
   "source": [
    "x_train = prima_seguro.edad.values.reshape(-1,1)\n",
    "y_train = prima_seguro.prima"
   ]
  },
  {
   "cell_type": "code",
   "execution_count": null,
   "metadata": {},
   "outputs": [],
   "source": [
    "LM = LinearRegression()\n",
    "reg = LM.fit(x_train, y_train)"
   ]
  },
  {
   "cell_type": "code",
   "execution_count": null,
   "metadata": {},
   "outputs": [],
   "source": [
    "reg.score(x_train, y_train)"
   ]
  },
  {
   "cell_type": "markdown",
   "metadata": {},
   "source": [
    "Los parámetros de la regresión: coef_ corresponde a $\\beta$ e intercet_ al $\\alpha$"
   ]
  },
  {
   "cell_type": "code",
   "execution_count": null,
   "metadata": {},
   "outputs": [],
   "source": [
    "print(reg.coef_, reg.intercept_)"
   ]
  },
  {
   "cell_type": "code",
   "execution_count": null,
   "metadata": {},
   "outputs": [],
   "source": [
    "X2 = np.array([18, 75])\n",
    "Y2 = reg.intercept_ + reg.coef_*X"
   ]
  },
  {
   "cell_type": "code",
   "execution_count": null,
   "metadata": {},
   "outputs": [],
   "source": [
    "plt.plot(X,Y, 'r')\n",
    "plt.plot(X2,Y2, 'g')\n",
    "plt.grid()\n",
    "plt.scatter(prima_seguro.edad, prima_seguro.prima)"
   ]
  },
  {
   "cell_type": "markdown",
   "metadata": {},
   "source": [
    "Graficamos la distancia de los residuos para confirmar\n",
    "una correlación serial como consecuencia de tener un modelo\n",
    "mal especificado"
   ]
  },
  {
   "cell_type": "code",
   "execution_count": null,
   "metadata": {},
   "outputs": [],
   "source": [
    "prima_hat = alpha + beta*prima_seguro.edad"
   ]
  },
  {
   "cell_type": "code",
   "execution_count": null,
   "metadata": {},
   "outputs": [],
   "source": [
    "fig, ax = plt.subplots()\n",
    "ax.plot(X,Y, 'r')\n",
    "ax.scatter(prima_seguro.edad,prima_seguro.prima)\n",
    "residual = prima_seguro.prima - prima_hat\n",
    "ax.vlines(prima_seguro.edad,prima_seguro.prima,prima_hat)\n",
    "plt.grid()\n",
    "plt.show()"
   ]
  },
  {
   "cell_type": "markdown",
   "metadata": {},
   "source": [
    "Como la nube de puntos tiene forma de parábola buscamos\n",
    "especificar el modelo con la fórmula correspondiente.\n",
    "\n",
    "$$y = w_0 + w_1x + w_2x^2$$\n",
    "\n",
    "\n",
    "**OJO**: El modelo tiene que ser lineal en los parámetros, no en las variables.  A efectos del modelo es como tener una característica nueva $$x_2 = edad\\times edad$$"
   ]
  },
  {
   "cell_type": "code",
   "execution_count": null,
   "metadata": {},
   "outputs": [],
   "source": [
    "x_train_extra = np.concatenate([x_train, (x_train**2)], axis=1)"
   ]
  },
  {
   "cell_type": "code",
   "execution_count": null,
   "metadata": {},
   "outputs": [],
   "source": [
    "reg2 = LM.fit(x_train_extra, y_train)"
   ]
  },
  {
   "cell_type": "code",
   "execution_count": null,
   "metadata": {},
   "outputs": [],
   "source": [
    "print(reg2.coef_, reg2.intercept_)"
   ]
  },
  {
   "cell_type": "code",
   "execution_count": null,
   "metadata": {},
   "outputs": [],
   "source": [
    "y2_predict = reg2.predict(x_train_extra)"
   ]
  },
  {
   "cell_type": "code",
   "execution_count": null,
   "metadata": {},
   "outputs": [],
   "source": [
    "reg2.score(x_train_extra, y_train)"
   ]
  },
  {
   "cell_type": "code",
   "execution_count": null,
   "metadata": {},
   "outputs": [],
   "source": [
    "fig, ax = plt.subplots()\n",
    "\n",
    "ax.scatter(prima_seguro.edad,prima_seguro.prima)\n",
    "ax.plot(prima_seguro.edad, y2_predict, 'r')\n",
    "\n",
    "#residual = prima_seguro.prima - y2_predict\n",
    "ax.vlines(prima_seguro.edad,prima_seguro.prima,y2_predict)\n",
    "plt.grid()\n",
    "plt.show()"
   ]
  },
  {
   "cell_type": "markdown",
   "metadata": {},
   "source": [
    "Esta gráfica está mejor ajustada, con la correlación serial prácticamente eliminada"
   ]
  },
  {
   "cell_type": "code",
   "execution_count": null,
   "metadata": {},
   "outputs": [],
   "source": []
  }
 ],
 "metadata": {
  "kernelspec": {
   "display_name": "Python 3",
   "language": "python",
   "name": "python3"
  },
  "language_info": {
   "codemirror_mode": {
    "name": "ipython",
    "version": 3
   },
   "file_extension": ".py",
   "mimetype": "text/x-python",
   "name": "python",
   "nbconvert_exporter": "python",
   "pygments_lexer": "ipython3",
   "version": "3.7.0"
  }
 },
 "nbformat": 4,
 "nbformat_minor": 4
}
