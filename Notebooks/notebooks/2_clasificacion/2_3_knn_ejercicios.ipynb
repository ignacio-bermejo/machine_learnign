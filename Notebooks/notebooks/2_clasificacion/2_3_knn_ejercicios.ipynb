{
 "cells": [
  {
   "cell_type": "markdown",
   "metadata": {},
   "source": [
    "## Introducción al Machine Learning \n",
    "### Ejercicios con K-NN "
   ]
  },
  {
   "cell_type": "code",
   "execution_count": 16,
   "metadata": {},
   "outputs": [],
   "source": [
    "import numpy as np\n",
    "import pandas as pd\n",
    "import matplotlib.pyplot as plt\n",
    "%matplotlib inline"
   ]
  },
  {
   "cell_type": "code",
   "execution_count": 17,
   "metadata": {},
   "outputs": [],
   "source": [
    "bankruptcy = pd.read_csv('../data/bankruptcy.csv', index_col='Company')"
   ]
  },
  {
   "cell_type": "code",
   "execution_count": 18,
   "metadata": {},
   "outputs": [],
   "source": [
    "features = bankruptcy.loc[:, bankruptcy.columns != 'Bankrupt']\n",
    "target = bankruptcy.Bankrupt"
   ]
  },
  {
   "cell_type": "markdown",
   "metadata": {},
   "source": [
    "___"
   ]
  },
  {
   "cell_type": "markdown",
   "metadata": {},
   "source": [
    "#### Propuesta Ejercicio 1: Un K-NN desde cero\n",
    "Desarrollar un knn que funcione sobre DataFrames y Series de Pandas.  Para eso necesitamos.\n",
    " - Una función que calcule la distancia euclidea\n",
    " - Una clase que calcule la predicción y la predicción probabilística en función de los vecinos más cercanos\n"
   ]
  },
  {
   "cell_type": "code",
   "execution_count": 19,
   "metadata": {},
   "outputs": [],
   "source": [
    "def euclidean_distance(serie_a, serie_b):\n",
    "    \"\"\"\n",
    "    Completar asumiendo que serie_a, serie_b son pandas.Series\n",
    "    \"\"\"\n",
    "    return 0"
   ]
  },
  {
   "cell_type": "code",
   "execution_count": 20,
   "metadata": {},
   "outputs": [
    {
     "data": {
      "text/plain": [
       "0"
      ]
     },
     "execution_count": 20,
     "metadata": {},
     "output_type": "execute_result"
    }
   ],
   "source": [
    "euclidean_distance(features.iloc[0], features.iloc[1])"
   ]
  },
  {
   "cell_type": "code",
   "execution_count": 21,
   "metadata": {},
   "outputs": [],
   "source": [
    "class miKNN():\n",
    "    \"\"\"\n",
    "    X: Pandas.Dataframe de caracteristicas\n",
    "    Y: Pandas.Series de etiquetas\n",
    "    k: parametro de vecinos mas cercanos\n",
    "    \"\"\"\n",
    "    def __init__(self, X, Y, k):\n",
    "        self.X = X\n",
    "        self.Y = Y\n",
    "        self.k = k\n",
    "     \n",
    "    def predict(self, new):\n",
    "        \"\"\"\n",
    "         - Calcula la distancia dede 'new' a todos los ejemplos\n",
    "         - Se queda con los k ejemplos con menor distancia\n",
    "         - Devuelve la moda de los vecinos elegidos\n",
    "        \n",
    "        \"\"\"\n",
    "     \n",
    "        \n",
    "        return 'yes'\n",
    "    \n",
    "    def predict_proba(self, new):\n",
    "        \"\"\"\n",
    "        igual que la funcion predict, pero devuelve la proporcion\n",
    "        de cada una de las clases en los vecinos seleccionados\n",
    "        \"\"\"\n",
    "        \n",
    "        return 0\n",
    "        "
   ]
  },
  {
   "cell_type": "code",
   "execution_count": 22,
   "metadata": {},
   "outputs": [],
   "source": [
    "knn = miKNN(features.iloc[:-2], target.iloc[:-2], 5)"
   ]
  },
  {
   "cell_type": "code",
   "execution_count": 23,
   "metadata": {},
   "outputs": [],
   "source": [
    "yi_hat = knn.predict(features.iloc[-1])\n",
    "yi = target.iloc[-1]"
   ]
  },
  {
   "cell_type": "code",
   "execution_count": 24,
   "metadata": {},
   "outputs": [
    {
     "data": {
      "text/plain": [
       "('no', 'yes')"
      ]
     },
     "execution_count": 24,
     "metadata": {},
     "output_type": "execute_result"
    }
   ],
   "source": [
    "yi, yi_hat"
   ]
  },
  {
   "cell_type": "code",
   "execution_count": 25,
   "metadata": {},
   "outputs": [
    {
     "data": {
      "text/plain": [
       "0"
      ]
     },
     "execution_count": 25,
     "metadata": {},
     "output_type": "execute_result"
    }
   ],
   "source": [
    "knn.predict_proba(features.iloc[-1])"
   ]
  },
  {
   "cell_type": "markdown",
   "metadata": {},
   "source": [
    "___"
   ]
  },
  {
   "cell_type": "markdown",
   "metadata": {},
   "source": [
    "#### Propuesta Ejercicio 2\n",
    "Verificar el resultado de algunas instancias utilizando \n",
    "la implementación de knn en sklearn"
   ]
  },
  {
   "cell_type": "code",
   "execution_count": 26,
   "metadata": {},
   "outputs": [],
   "source": [
    "from sklearn.neighbors import KNeighborsClassifier"
   ]
  },
  {
   "cell_type": "code",
   "execution_count": null,
   "metadata": {},
   "outputs": [],
   "source": []
  }
 ],
 "metadata": {
  "kernelspec": {
   "display_name": "Python 3",
   "language": "python",
   "name": "python3"
  },
  "language_info": {
   "codemirror_mode": {
    "name": "ipython",
    "version": 3
   },
   "file_extension": ".py",
   "mimetype": "text/x-python",
   "name": "python",
   "nbconvert_exporter": "python",
   "pygments_lexer": "ipython3",
   "version": "3.7.0"
  }
 },
 "nbformat": 4,
 "nbformat_minor": 4
}
