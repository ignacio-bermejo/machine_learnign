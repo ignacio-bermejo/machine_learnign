{
 "cells": [
  {
   "cell_type": "markdown",
   "metadata": {},
   "source": [
    "## Introducción al Machine Learning \n",
    "### Un K-nn desde cero "
   ]
  },
  {
   "cell_type": "code",
   "execution_count": null,
   "metadata": {},
   "outputs": [],
   "source": [
    "import numpy as np\n",
    "import pandas as pd\n",
    "import matplotlib.pyplot as plt\n",
    "%matplotlib inline"
   ]
  },
  {
   "cell_type": "code",
   "execution_count": null,
   "metadata": {},
   "outputs": [],
   "source": [
    "bankruptcy = pd.read_csv('data/bankruptcy.csv', index_col='Company')"
   ]
  },
  {
   "cell_type": "code",
   "execution_count": null,
   "metadata": {},
   "outputs": [],
   "source": [
    "features = bankruptcy.loc[:, bankruptcy.columns != 'Bankrupt']\n",
    "target = bankruptcy.Bankrupt"
   ]
  },
  {
   "cell_type": "markdown",
   "metadata": {},
   "source": [
    "#### Propuesta Ejercicio\n",
    "Desarrollar un knn que funcione sobre DataFrames y Series de Pandas.  Para eso necesitamos.\n",
    " - Una función que calcule la distancia euclidea\n",
    " - Una clase que calcule la predicción y la predicción probabilística en función de los vecinos más cercanos\n"
   ]
  },
  {
   "cell_type": "code",
   "execution_count": null,
   "metadata": {},
   "outputs": [],
   "source": [
    "def euclidean_distance(serie_a, serie_b):\n",
    "    cuadrado_diff = (serie_a - serie_b)**2\n",
    "    return np.sqrt(cuadrado_diff.sum())"
   ]
  },
  {
   "cell_type": "code",
   "execution_count": null,
   "metadata": {},
   "outputs": [],
   "source": [
    "np.sqrt(((features.iloc[7] - features.iloc[1])**2).sum())"
   ]
  },
  {
   "cell_type": "code",
   "execution_count": null,
   "metadata": {},
   "outputs": [],
   "source": [
    "euclidean_distance(features.iloc[0], features.iloc[1])"
   ]
  },
  {
   "cell_type": "code",
   "execution_count": null,
   "metadata": {},
   "outputs": [],
   "source": [
    "class miKNN():\n",
    "    def __init__(self, X, Y, k):\n",
    "        self.X = X\n",
    "        self.Y = Y\n",
    "        self.k = k\n",
    "        \n",
    "    def predict(self, new):\n",
    "        d = pd.Series(np.nan, index=self.X.index)\n",
    "        for name, ft in self.X.iterrows():\n",
    "            i_d = euclidean_distance(ft, new)\n",
    "            d.loc[name] = i_d\n",
    "        self.distances = d.sort_values()\n",
    "        self.nn = self.distances.iloc[:self.k]\n",
    "        \n",
    "        return self.Y.loc[self.nn.index].mode()[0]\n",
    "    \n",
    "    def predict_proba(self, new):\n",
    "        _ = self.predict(new)\n",
    "        nn_labels = self.Y.loc[self.nn.index]\n",
    "        nn_counts = nn_labels.value_counts()\n",
    "        return nn_counts/nn_counts.sum()\n",
    "        "
   ]
  },
  {
   "cell_type": "code",
   "execution_count": null,
   "metadata": {},
   "outputs": [],
   "source": [
    "knn = miKNN(features.iloc[:-2], target.iloc[:-2], 5)"
   ]
  },
  {
   "cell_type": "code",
   "execution_count": null,
   "metadata": {},
   "outputs": [],
   "source": [
    "yi_hat = knn.predict(features.iloc[-1])\n",
    "yi = target.iloc[-1]"
   ]
  },
  {
   "cell_type": "code",
   "execution_count": null,
   "metadata": {},
   "outputs": [],
   "source": [
    "yi, yi_hat"
   ]
  },
  {
   "cell_type": "code",
   "execution_count": null,
   "metadata": {},
   "outputs": [],
   "source": [
    "knn.predict_proba(features.iloc[-1])"
   ]
  },
  {
   "cell_type": "code",
   "execution_count": null,
   "metadata": {},
   "outputs": [],
   "source": []
  },
  {
   "cell_type": "code",
   "execution_count": null,
   "metadata": {},
   "outputs": [],
   "source": []
  },
  {
   "cell_type": "code",
   "execution_count": null,
   "metadata": {},
   "outputs": [],
   "source": [
    "from sklearn.neighbors import KNeighborsClassifier\n",
    "from sklearn.preprocessing import LabelEncoder"
   ]
  },
  {
   "cell_type": "code",
   "execution_count": null,
   "metadata": {},
   "outputs": [],
   "source": [
    "knn = KNeighborsClassifier(n_neighbors=5)"
   ]
  },
  {
   "cell_type": "code",
   "execution_count": null,
   "metadata": {},
   "outputs": [],
   "source": [
    "knn.fit(features.values[:-2,:], target.values[:-2])"
   ]
  },
  {
   "cell_type": "code",
   "execution_count": null,
   "metadata": {},
   "outputs": [],
   "source": [
    "print(knn.predict(features.values[-1].reshape(1,-1)))\n",
    "print(knn.predict_proba(features.values[-1].reshape(1,-1)))\n",
    "\n"
   ]
  },
  {
   "cell_type": "code",
   "execution_count": null,
   "metadata": {},
   "outputs": [],
   "source": []
  }
 ],
 "metadata": {
  "kernelspec": {
   "display_name": "Python 3",
   "language": "python",
   "name": "python3"
  },
  "language_info": {
   "codemirror_mode": {
    "name": "ipython",
    "version": 3
   },
   "file_extension": ".py",
   "mimetype": "text/x-python",
   "name": "python",
   "nbconvert_exporter": "python",
   "pygments_lexer": "ipython3",
   "version": "3.7.0"
  }
 },
 "nbformat": 4,
 "nbformat_minor": 4
}
