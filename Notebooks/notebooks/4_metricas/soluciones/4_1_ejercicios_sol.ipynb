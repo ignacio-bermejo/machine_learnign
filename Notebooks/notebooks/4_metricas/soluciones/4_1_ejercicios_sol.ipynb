{
 "cells": [
  {
   "cell_type": "markdown",
   "metadata": {},
   "source": [
    "## Introducción al Machine Learning \n",
    "### Curva ROC "
   ]
  },
  {
   "cell_type": "markdown",
   "metadata": {},
   "source": [
    "#### Solución a Ejercicios Propuestos"
   ]
  },
  {
   "cell_type": "markdown",
   "metadata": {},
   "source": [
    "#### Propuesta Ejercicios\n",
    "1. Probar cambiar valores distintos de la profundidad del árbol para visualizar el efecto del overfitting\n",
    "2. Utilizar la función *auc* para calcular el área de la curva ROC, interpretando adecuadamente  la documentación de sus parámetros\n",
    "3. Tranformar el código de la curva ROC en una función que la dibuje a partir de un modelo, las características y las etiquetas del conjunto de test.\n",
    "\n"
   ]
  },
  {
   "cell_type": "code",
   "execution_count": 3,
   "metadata": {},
   "outputs": [],
   "source": [
    "import numpy as np\n",
    "import pandas as pd\n",
    "import matplotlib.pyplot as plt"
   ]
  },
  {
   "cell_type": "code",
   "execution_count": 4,
   "metadata": {},
   "outputs": [],
   "source": [
    "from sklearn.tree import DecisionTreeClassifier \n",
    "from sklearn.model_selection import train_test_split"
   ]
  },
  {
   "cell_type": "code",
   "execution_count": 5,
   "metadata": {},
   "outputs": [],
   "source": [
    "from sklearn.metrics import roc_curve, auc"
   ]
  },
  {
   "cell_type": "code",
   "execution_count": 6,
   "metadata": {},
   "outputs": [],
   "source": [
    "bank = pd.read_csv('../../data/bank.csv', sep=\";\")"
   ]
  },
  {
   "cell_type": "code",
   "execution_count": 7,
   "metadata": {},
   "outputs": [],
   "source": [
    "raw_features = bank.drop(columns='y')\n",
    "ft_df = pd.get_dummies(raw_features)\n",
    "features = ft_df.values\n",
    "target = bank.y"
   ]
  },
  {
   "cell_type": "markdown",
   "metadata": {},
   "source": [
    "___"
   ]
  },
  {
   "cell_type": "markdown",
   "metadata": {},
   "source": [
    "Separación del conjunto en train/test que ya conocemos"
   ]
  },
  {
   "cell_type": "code",
   "execution_count": 8,
   "metadata": {},
   "outputs": [],
   "source": [
    "x_train, x_test, y_train, y_test = train_test_split(features,\n",
    "                                                    target,\n",
    "                                                    test_size=0.3,\n",
    "                                                    stratify=target)"
   ]
  },
  {
   "cell_type": "markdown",
   "metadata": {},
   "source": [
    "Entrenameros arboles de decisión"
   ]
  },
  {
   "cell_type": "code",
   "execution_count": 9,
   "metadata": {},
   "outputs": [
    {
     "name": "stdout",
     "output_type": "stream",
     "text": [
      "['no' 'yes']\n"
     ]
    }
   ],
   "source": [
    "tree = DecisionTreeClassifier(max_depth=5)\n",
    "tree = tree.fit(x_train, y_train)\n",
    "print(tree.classes_)"
   ]
  },
  {
   "cell_type": "markdown",
   "metadata": {},
   "source": [
    "La clase de interés en nuestro problema es la etiqueta 'yes', por lo que \n",
    "nos interesa calcular los ratios en referencia a dicha clase.\n",
    "La predicción probabilística corresponde a la posición 1"
   ]
  },
  {
   "cell_type": "code",
   "execution_count": 10,
   "metadata": {},
   "outputs": [],
   "source": [
    "test_pred = tree.predict_proba(x_test)\n",
    "test_posprob = test_pred[:,1]\n",
    "\n",
    "train_pred = tree.predict_proba(x_train)\n",
    "train_posprob = train_pred[:,1]"
   ]
  },
  {
   "cell_type": "markdown",
   "metadata": {},
   "source": [
    "___"
   ]
  },
  {
   "cell_type": "markdown",
   "metadata": {},
   "source": [
    "1. Para probar el efecto de overfitting se puede cambiar el max_depth en la construcción \n",
    "del árbol más arriba"
   ]
  },
  {
   "cell_type": "markdown",
   "metadata": {},
   "source": [
    "2. Calculamos el área de la curva ROC con la función auc"
   ]
  },
  {
   "cell_type": "code",
   "execution_count": 11,
   "metadata": {},
   "outputs": [],
   "source": [
    "from sklearn.metrics import auc"
   ]
  },
  {
   "cell_type": "code",
   "execution_count": 12,
   "metadata": {},
   "outputs": [
    {
     "data": {
      "text/plain": [
       "0.8168540105467667"
      ]
     },
     "execution_count": 12,
     "metadata": {},
     "output_type": "execute_result"
    }
   ],
   "source": [
    "fpr, tpr, thr = roc_curve(y_test, test_posprob, pos_label='yes')\n",
    "auc(fpr, tpr)\n"
   ]
  },
  {
   "cell_type": "markdown",
   "metadata": {},
   "source": [
    "Podemos obetner lo mismo directamente con la funcion "
   ]
  },
  {
   "cell_type": "code",
   "execution_count": 13,
   "metadata": {},
   "outputs": [],
   "source": [
    "from sklearn.metrics import roc_auc_score"
   ]
  },
  {
   "cell_type": "code",
   "execution_count": 14,
   "metadata": {},
   "outputs": [
    {
     "data": {
      "text/plain": [
       "0.8168540105467667"
      ]
     },
     "execution_count": 14,
     "metadata": {},
     "output_type": "execute_result"
    }
   ],
   "source": [
    "roc_auc_score(y_test, test_posprob)"
   ]
  },
  {
   "cell_type": "markdown",
   "metadata": {},
   "source": [
    "3. Función para generar la curva ROC"
   ]
  },
  {
   "cell_type": "code",
   "execution_count": 42,
   "metadata": {},
   "outputs": [],
   "source": [
    "def generar_roc(modelo, etiqueta_interes, features, labels,\n",
    "                feat_train=None,\n",
    "                labels_train=None):\n",
    "    \"\"\"\n",
    "     - modelo: clasificador binario ya entrenado\n",
    "     - etiqueta_interes: Valor de la clase binaria que queremos predecir. Ej. 'yes' o 'positiva'\n",
    "     - features, labels: Características y etiquetas de test\n",
    "     - feat_train, labels_train: opcionales por si queremos incluir la ROC de entrenamiento \n",
    "    \"\"\"\n",
    "    # hacemos la prediccion sobre la clase de interes\n",
    "    id_interes = np.where(modelo.classes_ == etiqueta_interes)[0][0]\n",
    "    prob = modelo.predict_proba(features)\n",
    "    interes_prob = prob[:,id_interes]\n",
    "    \n",
    "    # pedimos los ratios para diferentes umbrales\n",
    "    fpr, tpr, thr = roc_curve(labels, interes_prob, pos_label=etiqueta_interes)\n",
    "    \n",
    "    # Calculamos lo mismo para train, si nos han pasado dichos parametros\n",
    "    if feat_train is not None:\n",
    "        prob_train = modelo.predict_proba(feat_train)\n",
    "        pos_prob_train = prob_train[:,id_interes]\n",
    "        fpr_train, tpr_train, _ = roc_curve(labels_train, \n",
    "                                            pos_prob_train, \n",
    "                                            pos_label=etiqueta_interes)\n",
    "    \n",
    "    # Hacemos la gráfica\n",
    "    fig, ax = plt.subplots(figsize=(5,5))\n",
    "    plt.plot(fpr, tpr, color='r', label='test')\n",
    "    \n",
    "    if feat_train is not None:\n",
    "        plt.plot(fpr_train, tpr_train, color='g', label='train')\n",
    "\n",
    "    plt.plot([0,1],[0,1])\n",
    "    plt.xlim([0.0, 1.0])\n",
    "    plt.ylim([0.0,1.0])\n",
    "    plt.legend(loc='lower right')"
   ]
  },
  {
   "cell_type": "markdown",
   "metadata": {},
   "source": [
    "Probamos nuestra función"
   ]
  },
  {
   "cell_type": "code",
   "execution_count": 43,
   "metadata": {},
   "outputs": [
    {
     "data": {
      "image/png": "[encoded data removed]",
      "text/plain": [
       "<Figure size 360x360 with 1 Axes>"
      ]
     },
     "metadata": {
      "needs_background": "light"
     },
     "output_type": "display_data"
    }
   ],
   "source": [
    "generar_roc(tree, 'yes', x_test, y_test)"
   ]
  },
  {
   "cell_type": "code",
   "execution_count": 44,
   "metadata": {},
   "outputs": [
    {
     "data": {
      "image/png": "[encoded data removed]",
      "text/plain": [
       "<Figure size 360x360 with 1 Axes>"
      ]
     },
     "metadata": {
      "needs_background": "light"
     },
     "output_type": "display_data"
    }
   ],
   "source": [
    "generar_roc(tree, 'yes', x_test, y_test,\n",
    "            feat_train=x_train,\n",
    "            labels_train=y_train)\n"
   ]
  },
  {
   "cell_type": "markdown",
   "metadata": {},
   "source": [
    "___"
   ]
  },
  {
   "cell_type": "code",
   "execution_count": null,
   "metadata": {},
   "outputs": [],
   "source": []
  }
 ],
 "metadata": {
  "kernelspec": {
   "display_name": "Python 3",
   "language": "python",
   "name": "python3"
  },
  "language_info": {
   "codemirror_mode": {
    "name": "ipython",
    "version": 3
   },
   "file_extension": ".py",
   "mimetype": "text/x-python",
   "name": "python",
   "nbconvert_exporter": "python",
   "pygments_lexer": "ipython3",
   "version": "3.7.0"
  }
 },
 "nbformat": 4,
 "nbformat_minor": 4
}
