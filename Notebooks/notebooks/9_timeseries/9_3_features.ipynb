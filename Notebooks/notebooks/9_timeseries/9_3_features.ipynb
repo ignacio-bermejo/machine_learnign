{
 "cells": [
  {
   "cell_type": "markdown",
   "metadata": {},
   "source": [
    "## Introducción al Machine Learning\n",
    "### Características para Series de Precios"
   ]
  },
  {
   "cell_type": "markdown",
   "metadata": {},
   "source": [
    "En este cuaderno se presentan algunos ejemplos de construccion de características\n",
    "a partir de series de precios "
   ]
  },
  {
   "cell_type": "code",
   "execution_count": null,
   "metadata": {},
   "outputs": [],
   "source": [
    "import numpy as np\n",
    "import pandas as pd\n",
    "import matplotlib.pyplot as plt"
   ]
  },
  {
   "cell_type": "markdown",
   "metadata": {},
   "source": [
    "Datos del IBEX 35"
   ]
  },
  {
   "cell_type": "code",
   "execution_count": null,
   "metadata": {},
   "outputs": [],
   "source": [
    "import pickle\n",
    "\n",
    "with open('../data/stock_data.pkl', 'rb') as handle:\n",
    "    stock_data = pickle.load(handle)"
   ]
  },
  {
   "cell_type": "code",
   "execution_count": null,
   "metadata": {},
   "outputs": [],
   "source": [
    "tef = stock_data['TEF']"
   ]
  },
  {
   "cell_type": "code",
   "execution_count": null,
   "metadata": {},
   "outputs": [],
   "source": [
    "tef.head()"
   ]
  },
  {
   "cell_type": "markdown",
   "metadata": {},
   "source": [
    "#### Características de fechas"
   ]
  },
  {
   "cell_type": "markdown",
   "metadata": {},
   "source": [
    "Los días del año y los meses son propiedades que se repiten con los ciclos del año. Si queremos utilizarlas \n",
    "como características podemos representarlas de modo que respeten la relación de distancia entre ellos.  \n",
    "Lo resolvemos construyendo 2 características que representan la posición en una circunferencia. De esta forma el mes 1 y el mes 12 tienen una distancia menor que de 1 a 3.  "
   ]
  },
  {
   "cell_type": "code",
   "execution_count": null,
   "metadata": {},
   "outputs": [],
   "source": [
    "mes = tef.index.month\n",
    "tef['mes_x1'] = np.sin(mes * (2* np.pi/12))\n",
    "tef['mes_x2'] = np.cos(mes * (2* np.pi/12))"
   ]
  },
  {
   "cell_type": "code",
   "execution_count": null,
   "metadata": {},
   "outputs": [],
   "source": [
    "tef"
   ]
  },
  {
   "cell_type": "code",
   "execution_count": null,
   "metadata": {},
   "outputs": [],
   "source": [
    "tef_subset = tef.loc[\"2015-01-01\":]\n",
    "tef_subset[['mes_x1', 'mes_x2']].plot()\n"
   ]
  },
  {
   "cell_type": "code",
   "execution_count": null,
   "metadata": {},
   "outputs": [],
   "source": [
    "def euclidean_distance(serie_a, serie_b):\n",
    "    cuadrado_diff = (serie_a - serie_b)**2\n",
    "    return np.sqrt(cuadrado_diff.sum())"
   ]
  },
  {
   "cell_type": "code",
   "execution_count": null,
   "metadata": {},
   "outputs": [],
   "source": [
    "mes1 = tef.loc['2015-01-02',['mes_x1','mes_x2']]\n",
    "mes3 = tef.loc['2015-03-02',['mes_x1','mes_x2']]\n",
    "mes12 = tef.loc['2015-12-02',['mes_x1','mes_x2']]"
   ]
  },
  {
   "cell_type": "code",
   "execution_count": null,
   "metadata": {},
   "outputs": [],
   "source": [
    "print(euclidean_distance(mes1, mes3))\n",
    "print(euclidean_distance(mes1, mes12))"
   ]
  },
  {
   "cell_type": "markdown",
   "metadata": {},
   "source": [
    "___"
   ]
  },
  {
   "cell_type": "markdown",
   "metadata": {},
   "source": [
    "#### Características basadas en eventos"
   ]
  },
  {
   "cell_type": "code",
   "execution_count": null,
   "metadata": {},
   "outputs": [],
   "source": [
    "tef = stock_data['TEF'].close"
   ]
  },
  {
   "cell_type": "markdown",
   "metadata": {},
   "source": [
    "Primero calculamos dos medias móviles, una rápida de 10\n",
    "sesiones y otra lenta de 50 sesiones.  Nos interesa identificar\n",
    "los días de curce"
   ]
  },
  {
   "cell_type": "code",
   "execution_count": null,
   "metadata": {},
   "outputs": [],
   "source": [
    "sma10 = tef.rolling(10).mean()\n",
    "sma50 = tef.rolling(50).mean()"
   ]
  },
  {
   "cell_type": "markdown",
   "metadata": {},
   "source": [
    "primero vemos los días que la rápida está por encima.\n",
    "Representaremos con 0 o 1"
   ]
  },
  {
   "cell_type": "code",
   "execution_count": null,
   "metadata": {},
   "outputs": [],
   "source": [
    "sma_above = (sma10 > sma50).astype(np.float)\n",
    "sma_above.iloc[90:110]"
   ]
  },
  {
   "cell_type": "markdown",
   "metadata": {},
   "source": [
    "Si hacemos la diferencia tendremos\n",
    "- De 1 a 0: 1 la media rápida ha cruzado hacia arriba la larga\n",
    "- De 0 a 1: -1 la media rápida ha cruzado hacia abajo la larga\n",
    "- De 0 a 0, o de 1 a 1: 0 no hay cruce de medias    "
   ]
  },
  {
   "cell_type": "code",
   "execution_count": null,
   "metadata": {},
   "outputs": [],
   "source": [
    "events_sma = sma_above.diff()\n",
    "events_sma.iloc[90:110]"
   ]
  },
  {
   "cell_type": "markdown",
   "metadata": {},
   "source": [
    "___"
   ]
  },
  {
   "cell_type": "markdown",
   "metadata": {},
   "source": [
    "### Ejercicio Propuesto"
   ]
  },
  {
   "cell_type": "markdown",
   "metadata": {},
   "source": [
    "Generar una característica que codifique el evento en el que la volatilidad de una serie supere o disminuya de un umral, por ejemplo 0.25 anualizado "
   ]
  },
  {
   "cell_type": "code",
   "execution_count": null,
   "metadata": {},
   "outputs": [],
   "source": []
  }
 ],
 "metadata": {
  "kernelspec": {
   "display_name": "Python 3",
   "language": "python",
   "name": "python3"
  },
  "language_info": {
   "codemirror_mode": {
    "name": "ipython",
    "version": 3
   },
   "file_extension": ".py",
   "mimetype": "text/x-python",
   "name": "python",
   "nbconvert_exporter": "python",
   "pygments_lexer": "ipython3",
   "version": "3.7.0"
  }
 },
 "nbformat": 4,
 "nbformat_minor": 4
}
