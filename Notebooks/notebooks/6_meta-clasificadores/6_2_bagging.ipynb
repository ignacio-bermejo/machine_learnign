{
 "cells": [
  {
   "cell_type": "markdown",
   "metadata": {},
   "source": [
    "## Introducción al Machine Learning \n",
    "### Meta-Clasificadores. Bagging "
   ]
  },
  {
   "cell_type": "markdown",
   "metadata": {},
   "source": [
    "Este ejemplo muestra como utilizar sklearn para entrenar un clasificador utilizando\n",
    "un esquema de Bagging"
   ]
  },
  {
   "cell_type": "code",
   "execution_count": 4,
   "metadata": {},
   "outputs": [],
   "source": [
    "import numpy as np\n",
    "import pandas as pd\n",
    "import matplotlib.pyplot as plt"
   ]
  },
  {
   "cell_type": "markdown",
   "metadata": {},
   "source": [
    "Para detalles del dataset, o la particion train/test ver ejemplos de la sesión 2"
   ]
  },
  {
   "cell_type": "code",
   "execution_count": 49,
   "metadata": {},
   "outputs": [],
   "source": [
    "bankruptcy = pd.read_csv('../data/bankruptcy.csv', index_col='Company')"
   ]
  },
  {
   "cell_type": "code",
   "execution_count": 50,
   "metadata": {},
   "outputs": [],
   "source": [
    "features = bankruptcy.loc[:, bankruptcy.columns != 'Bankrupt']\n",
    "target = bankruptcy.Bankrupt"
   ]
  },
  {
   "cell_type": "code",
   "execution_count": 12,
   "metadata": {},
   "outputs": [],
   "source": [
    "from sklearn.model_selection import train_test_split\n",
    "from sklearn.tree import DecisionTreeClassifier\n",
    "from sklearn.ensemble import BaggingClassifier\n",
    "from sklearn.metrics import accuracy_score"
   ]
  },
  {
   "cell_type": "code",
   "execution_count": 9,
   "metadata": {},
   "outputs": [],
   "source": [
    "x_train, x_test, y_train, y_test = train_test_split(features.values,\n",
    "                                                    target.values,\n",
    "                                                    test_size=0.4,\n",
    "                                                    stratify=target.values)"
   ]
  },
  {
   "cell_type": "code",
   "execution_count": 20,
   "metadata": {},
   "outputs": [
    {
     "data": {
      "text/plain": [
       "{'no': 15, 'yes': 15}"
      ]
     },
     "execution_count": 20,
     "metadata": {},
     "output_type": "execute_result"
    }
   ],
   "source": [
    "vals, counts = np.unique(y_train, return_counts=True)\n",
    "dict(zip(vals, counts))"
   ]
  },
  {
   "cell_type": "markdown",
   "metadata": {},
   "source": [
    "La clase que utilizamos para realizar el bagging funciona como los otros \n",
    "algoritmos de ML, Pero tenemos que pasarle el algoritmo de base en *base_estimator*"
   ]
  },
  {
   "cell_type": "code",
   "execution_count": 36,
   "metadata": {},
   "outputs": [],
   "source": [
    "tree = DecisionTreeClassifier()\n",
    "bagg = BaggingClassifier(base_estimator=tree,\n",
    "                         n_estimators=10, \n",
    "                         random_state=0)"
   ]
  },
  {
   "cell_type": "code",
   "execution_count": 37,
   "metadata": {},
   "outputs": [],
   "source": [
    "bagg = bagg.fit(x_train, y_train)"
   ]
  },
  {
   "cell_type": "code",
   "execution_count": 38,
   "metadata": {},
   "outputs": [],
   "source": [
    "y_pred = bagg.predict(x_test)"
   ]
  },
  {
   "cell_type": "markdown",
   "metadata": {},
   "source": [
    "Entrenamos también un árbol independiente para comprobar la mejora obtenida con un meta-clasificador"
   ]
  },
  {
   "cell_type": "code",
   "execution_count": 39,
   "metadata": {},
   "outputs": [],
   "source": [
    "single_tree = DecisionTreeClassifier().fit(x_train, y_train)\n",
    "y_pred_single = single_tree.predict(x_test)"
   ]
  },
  {
   "cell_type": "code",
   "execution_count": 40,
   "metadata": {},
   "outputs": [
    {
     "name": "stdout",
     "output_type": "stream",
     "text": [
      "Tree: 0.8\n",
      "Bagging: 0.95\n"
     ]
    }
   ],
   "source": [
    "print(\"Tree:\", accuracy_score(y_test, y_pred_single))\n",
    "print(\"Bagging:\", accuracy_score(y_test, y_pred))      "
   ]
  },
  {
   "cell_type": "markdown",
   "metadata": {},
   "source": [
    "Podemos ver la muestra de cada bag que se ha utilizado para entrenar cada\n",
    "clasificador. Cada array representa los índices de los ejemplos seleccionados"
   ]
  },
  {
   "cell_type": "code",
   "execution_count": 45,
   "metadata": {},
   "outputs": [
    {
     "data": {
      "text/plain": [
       "[array([12,  3, 18,  0,  0, 18, 22,  9,  7,  3, 15, 25, 15, 23,  9,  6,  1,\n",
       "        17, 21,  7, 27, 15, 27,  9,  7,  2, 16,  7, 25, 21]),\n",
       " array([11, 29, 19, 28,  0, 16, 17, 13, 24, 17,  7, 12,  9,  4,  8, 13, 21,\n",
       "         2,  7, 14, 15, 12, 18, 14,  2, 11, 11, 28, 10, 11]),\n",
       " array([13, 19, 14,  5,  4, 14, 10,  5, 23,  1, 23, 23, 11,  1, 24, 16, 21,\n",
       "        14, 16, 23, 22,  9, 26, 15, 14, 16,  9, 17, 21,  6]),\n",
       " array([ 4,  5,  3, 16, 24,  3, 16, 20,  3, 27, 28, 21,  1,  9,  7,  5, 14,\n",
       "        21,  5, 24,  7, 25, 27, 10, 12, 21, 22, 24, 12, 20]),\n",
       " array([ 1, 23,  9, 11, 11, 11,  5, 19, 15,  6,  3,  6,  5, 19,  4, 15, 10,\n",
       "         7, 28,  0,  9,  2, 13, 21,  2, 26, 19, 20,  2, 20]),\n",
       " array([17, 23, 18, 23,  0,  8, 17, 19, 13, 19, 26, 17, 25, 22, 13, 29, 27,\n",
       "         0, 11, 21,  6, 26, 18, 25,  0,  6,  2, 17, 22, 15]),\n",
       " array([29, 18, 29, 16, 20, 14, 25, 21, 10, 14,  4,  9, 13,  8,  7, 28, 27,\n",
       "        10, 17, 13, 16, 25, 16,  6,  7, 23, 25, 29, 14, 28]),\n",
       " array([ 4, 12, 29, 17,  7, 26, 17, 10,  0, 25, 12, 28, 22,  1,  9, 18,  1,\n",
       "        20, 25,  2,  5, 13,  4, 24, 24,  0,  5,  1,  6,  5]),\n",
       " array([23,  0, 10, 25, 12, 11, 16, 16, 20, 10,  9,  1, 20, 12, 28,  2,  1,\n",
       "        15,  3,  9, 19, 25, 12, 13, 22,  4, 27, 18,  3, 29]),\n",
       " array([ 2, 27,  2, 25,  3, 20, 20, 17, 10, 13,  1, 21, 15,  0,  7, 16, 21,\n",
       "         7, 17, 13,  1, 29, 24,  0, 17,  8, 23,  9,  0,  0])]"
      ]
     },
     "execution_count": 45,
     "metadata": {},
     "output_type": "execute_result"
    }
   ],
   "source": [
    "bagg.estimators_samples_"
   ]
  },
  {
   "cell_type": "code",
   "execution_count": 48,
   "metadata": {},
   "outputs": [
    {
     "data": {
      "text/plain": [
       "7     4\n",
       "15    3\n",
       "9     3\n",
       "25    2\n",
       "3     2\n",
       "27    2\n",
       "18    2\n",
       "21    2\n",
       "0     2\n",
       "17    1\n",
       "16    1\n",
       "12    1\n",
       "22    1\n",
       "6     1\n",
       "23    1\n",
       "2     1\n",
       "1     1\n",
       "dtype: int64"
      ]
     },
     "execution_count": 48,
     "metadata": {},
     "output_type": "execute_result"
    }
   ],
   "source": [
    "pd.Series(bagg.estimators_samples_[0]).value_counts()"
   ]
  },
  {
   "cell_type": "markdown",
   "metadata": {},
   "source": [
    "___"
   ]
  },
  {
   "cell_type": "markdown",
   "metadata": {},
   "source": [
    "#### Propuesta Ejercicio"
   ]
  },
  {
   "cell_type": "markdown",
   "metadata": {},
   "source": [
    "- Utilizar la clase BaggingRegressor para mejorar el rendimiento de un árbol de regresión en el dataset Boston de valoración de inmuebles."
   ]
  },
  {
   "cell_type": "code",
   "execution_count": null,
   "metadata": {},
   "outputs": [],
   "source": []
  },
  {
   "cell_type": "code",
   "execution_count": null,
   "metadata": {},
   "outputs": [],
   "source": []
  }
 ],
 "metadata": {
  "kernelspec": {
   "display_name": "Python 3",
   "language": "python",
   "name": "python3"
  },
  "language_info": {
   "codemirror_mode": {
    "name": "ipython",
    "version": 3
   },
   "file_extension": ".py",
   "mimetype": "text/x-python",
   "name": "python",
   "nbconvert_exporter": "python",
   "pygments_lexer": "ipython3",
   "version": "3.7.0"
  }
 },
 "nbformat": 4,
 "nbformat_minor": 4
}
