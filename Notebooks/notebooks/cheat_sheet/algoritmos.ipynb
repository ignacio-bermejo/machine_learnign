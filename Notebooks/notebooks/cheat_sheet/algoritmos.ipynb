{
 "cells": [
  {
   "cell_type": "markdown",
   "metadata": {},
   "source": [
    "### Introducción al Machine Learning \n",
    "### Resumen Algoritmos ML\n",
    "Este cuaderno muestra a modo de resumen los diferentes\n",
    "algoritmos de Machine Learning vistos en los ejemplos, y cómo \n",
    "encontrarlos en los paquetes de sklearn donde están implementados"
   ]
  },
  {
   "cell_type": "markdown",
   "metadata": {},
   "source": [
    "____"
   ]
  },
  {
   "cell_type": "markdown",
   "metadata": {},
   "source": [
    "Los notebooks se han preparado con la versión 0.23 de sklearn.\n",
    "Para verficar la versión, basta con mirar la variable de la librería\n",
    "definida para tales fines"
   ]
  },
  {
   "cell_type": "code",
   "execution_count": 7,
   "metadata": {},
   "outputs": [
    {
     "data": {
      "text/plain": [
       "'0.23.0'"
      ]
     },
     "execution_count": 7,
     "metadata": {},
     "output_type": "execute_result"
    }
   ],
   "source": [
    "import sklearn\n",
    "sklearn.__version__"
   ]
  },
  {
   "cell_type": "markdown",
   "metadata": {},
   "source": [
    "___"
   ]
  },
  {
   "cell_type": "markdown",
   "metadata": {},
   "source": [
    "#### Algoritmos de Clasificación"
   ]
  },
  {
   "cell_type": "markdown",
   "metadata": {},
   "source": [
    "| **Algoritmo**        | **Meta** | **Implementación Sklearn** | **Localización** |\n",
    "| --- | --- | --- | --- |\n",
    "| Arboles de Decisión | no | DecisionTreeClassifier | sklearn.tree |\n",
    "| Vecinos más cercanos| no | KNeighborsClassifier | sklearn.neighbors |\n",
    "| Naive Bayes         | no | GaussianNB | naive_bayes | \n",
    "| Regresión Logística | no | LogisticRegression | sklearn.linear_model |\n",
    "| Bagging             | si | BaggingClassifier | sklearn.ensemble |\n",
    "| Random Forest       | si | RandomForestClassifier | sklearn.ensemble |\n",
    "| Boosting            | si | AdaBoostClassifier, GradientBoostingClassifier | sklearn.ensemble |"
   ]
  },
  {
   "cell_type": "code",
   "execution_count": 8,
   "metadata": {},
   "outputs": [],
   "source": [
    "from sklearn.tree import DecisionTreeClassifier\n",
    "from sklearn.neighbors import KNeighborsClassifier, KNeighborsRegressor\n",
    "from sklearn.naive_bayes import GaussianNB\n",
    "from sklearn.linear_model import LogisticRegression\n",
    "from sklearn.ensemble import BaggingClassifier, RandomForestClassifier, GradientBoostingClassifier"
   ]
  },
  {
   "cell_type": "markdown",
   "metadata": {},
   "source": [
    "____"
   ]
  },
  {
   "cell_type": "markdown",
   "metadata": {},
   "source": [
    "#### Algoritmos de Regresión "
   ]
  },
  {
   "cell_type": "markdown",
   "metadata": {},
   "source": [
    "| **Algoritmo**        | **Meta** | **Implementación Sklearn** | **Localización** |\n",
    "| --- | --- | --- | --- |\n",
    "| Arboles de Regresión | no | DecisionTreeRegressor | sklearn.tree |\n",
    "| Vecinos más cercanos | no | KNeighborsRegressor | sklearn.neighbors |\n",
    "| Regresión Lineal     | no | LinearRegression | sklearn.linear_model |\n",
    "| Random Forest        | si | RandomForestRegressor | sklearn.ensemble |"
   ]
  },
  {
   "cell_type": "code",
   "execution_count": 9,
   "metadata": {},
   "outputs": [],
   "source": [
    "from sklearn.tree import DecisionTreeRegressor\n",
    "from sklearn.neighbors import KNeighborsRegressor\n",
    "from sklearn.linear_model import LinearRegression \n",
    "from sklearn.ensemble import RandomForestRegressor \n"
   ]
  },
  {
   "cell_type": "markdown",
   "metadata": {},
   "source": [
    "___"
   ]
  },
  {
   "cell_type": "markdown",
   "metadata": {},
   "source": [
    "### Algoritmos de Clustering"
   ]
  },
  {
   "cell_type": "markdown",
   "metadata": {},
   "source": [
    "| **Algoritmo**        | **Implementación Sklearn** | **Localización** |\n",
    "| --- | --- | --- |\n",
    "| K-medias | KMeans | sklearn.cluster |\n",
    "| Clustering Jerarquico | AgglomerativeClustering | sklearn.cluster |\n"
   ]
  },
  {
   "cell_type": "code",
   "execution_count": 10,
   "metadata": {},
   "outputs": [],
   "source": [
    "from sklearn.cluster import KMeans, AgglomerativeClustering "
   ]
  }
 ],
 "metadata": {
  "kernelspec": {
   "display_name": "Python 3",
   "language": "python",
   "name": "python3"
  },
  "language_info": {
   "codemirror_mode": {
    "name": "ipython",
    "version": 3
   },
   "file_extension": ".py",
   "mimetype": "text/x-python",
   "name": "python",
   "nbconvert_exporter": "python",
   "pygments_lexer": "ipython3",
   "version": "3.7.0"
  }
 },
 "nbformat": 4,
 "nbformat_minor": 4
}
