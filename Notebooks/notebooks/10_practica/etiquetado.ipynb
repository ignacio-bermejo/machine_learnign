{
 "cells": [
  {
   "cell_type": "markdown",
   "metadata": {},
   "source": [
    "## Práctica Machine Learning\n",
    "#### Clasificación de patrones técnicos"
   ]
  },
  {
   "cell_type": "markdown",
   "metadata": {},
   "source": [
    "Este cuaderno incluye un script para el etiquetado de gráficas de velas, que son\n",
    "elegidas de forma aleatoria a partir de los datos diarios del IBEX35.\n",
    "Para más detalle consultar el enunciado de la práctica"
   ]
  },
  {
   "cell_type": "markdown",
   "metadata": {},
   "source": [
    "Se requiere la instalación de mpl_finance"
   ]
  },
  {
   "cell_type": "code",
   "execution_count": null,
   "metadata": {},
   "outputs": [],
   "source": [
    "import numpy as np\n",
    "import pandas as pd\n",
    "import matplotlib.pyplot as plt"
   ]
  },
  {
   "cell_type": "code",
   "execution_count": null,
   "metadata": {},
   "outputs": [],
   "source": [
    "import pickle"
   ]
  },
  {
   "cell_type": "code",
   "execution_count": null,
   "metadata": {},
   "outputs": [],
   "source": [
    "with open('../data/benchmark_data.pkl', 'rb') as handle:\n",
    "    bm = pickle.load(handle)"
   ]
  },
  {
   "cell_type": "code",
   "execution_count": null,
   "metadata": {},
   "outputs": [],
   "source": [
    "ibex = bm['ibex']"
   ]
  },
  {
   "cell_type": "code",
   "execution_count": null,
   "metadata": {},
   "outputs": [],
   "source": [
    "ibex.head()"
   ]
  },
  {
   "cell_type": "code",
   "execution_count": null,
   "metadata": {},
   "outputs": [],
   "source": [
    "from mpl_finance import candlestick2_ohlc"
   ]
  },
  {
   "cell_type": "markdown",
   "metadata": {},
   "source": [
    "*mpl_finance* es uan librería de python que permite la generación de gráficos\n",
    "de velas de forma sencilla.  A continuación se muestra un ejemplo. Primero se \n",
    "elige una ventana temporal y luego se pasan los datos de cada serie OHLC"
   ]
  },
  {
   "cell_type": "code",
   "execution_count": null,
   "metadata": {},
   "outputs": [],
   "source": [
    "windata = ibex.loc[\"2013-02-03\":\"2013-03-20\"]\n",
    "fig, ax = plt.subplots(figsize=(6,4))\n",
    "_ = candlestick2_ohlc(ax, windata.open, windata.high,\n",
    "                          windata.low, windata.close,\n",
    "                          colorup='g', colordown='r', width=0.66, alpha=0.8)\n",
    "plt.show()"
   ]
  },
  {
   "cell_type": "markdown",
   "metadata": {},
   "source": [
    "Si se necesita guardar el gráfico"
   ]
  },
  {
   "cell_type": "code",
   "execution_count": null,
   "metadata": {},
   "outputs": [],
   "source": [
    "fig.savefig('doble_suelo3.pdf', format='pdf')"
   ]
  },
  {
   "cell_type": "markdown",
   "metadata": {},
   "source": [
    "___"
   ]
  },
  {
   "cell_type": "markdown",
   "metadata": {},
   "source": [
    "#### Bucle de Etiquetado \n",
    "El siguiente código es un bucle que:\n",
    "1. Elige una posición aleatoria de la serie para crear una ventana de 30 días\n",
    "2. Dibuja el gráfico de velas \n",
    "3. Pide al usuario que introduzca un número para etiquetar la gráfica.\n",
    "\n",
    "Primero hay que elegir el tamaño de la ventana y el número de ejemplos que se quieren generar.  \n",
    "Se tiene la opción de descartar algún ejemplo si no se quiere incluir (ej. posiblemente ambiguo)"
   ]
  },
  {
   "cell_type": "code",
   "execution_count": null,
   "metadata": {},
   "outputs": [],
   "source": [
    "window = 30\n",
    "n = 5"
   ]
  },
  {
   "cell_type": "code",
   "execution_count": null,
   "metadata": {},
   "outputs": [],
   "source": [
    "etiquetas = np.zeros(n)\n",
    "idfechas = np.zeros(n)\n",
    "for i in range(n):\n",
    "    idx = np.random.randint(0, ibex.shape[0] - window)\n",
    "    idfechas[i] = idx\n",
    "    windata = ibex.iloc[idx:idx+window]\n",
    "    fig, ax = plt.subplots(figsize=(6,4))\n",
    "    _ = candlestick2_ohlc(ax, windata.open, windata.high,\n",
    "                         windata.low, windata.close,\n",
    "                         colorup='g', colordown='r', width=0.66, alpha=0.8)\n",
    "    plt.show()\n",
    "    print(f'Ejemplo {i+1} de {n}')\n",
    "    print(\"Etiquete la siguiete grafica como:\")\n",
    "    print(\" [1] Doble suelo, [0] Sin doble suelo, [2] Descartar ejemplo\")\n",
    "    opcion_usuario = input()\n",
    "    if opcion_usuario >= '0' and opcion_usuario <= '2':\n",
    "        etiquetas[i] = opcion_usuario   \n",
    "    else:\n",
    "        print('Error en la opción introducida. Ejemplo descartado')\n",
    "        etiquetas[i] = 2\n"
   ]
  },
  {
   "cell_type": "code",
   "execution_count": null,
   "metadata": {},
   "outputs": [],
   "source": [
    "doble_suelo_labels = pd.Series(etiquetas, index=ibex.index[idfechas.astype(np.int)])"
   ]
  },
  {
   "cell_type": "markdown",
   "metadata": {},
   "source": [
    "Descartamos las etiquetas descartadas"
   ]
  },
  {
   "cell_type": "code",
   "execution_count": null,
   "metadata": {},
   "outputs": [],
   "source": [
    "doble_suelo_labels = doble_suelo_labels[doble_suelo_labels!=2]"
   ]
  },
  {
   "cell_type": "code",
   "execution_count": null,
   "metadata": {},
   "outputs": [],
   "source": [
    "doble_suelo_labels"
   ]
  },
  {
   "cell_type": "code",
   "execution_count": null,
   "metadata": {},
   "outputs": [],
   "source": [
    "doble_suelo_labels.value_counts()"
   ]
  },
  {
   "cell_type": "markdown",
   "metadata": {},
   "source": [
    "Guardamos el fichero en CSV para su posterior procesamiento"
   ]
  },
  {
   "cell_type": "code",
   "execution_count": null,
   "metadata": {},
   "outputs": [],
   "source": [
    "doble_suelo_labels.to_csv('ejemplos_doble_suelo.csv')"
   ]
  },
  {
   "cell_type": "code",
   "execution_count": null,
   "metadata": {},
   "outputs": [],
   "source": []
  }
 ],
 "metadata": {
  "kernelspec": {
   "display_name": "Python 3",
   "language": "python",
   "name": "python3"
  },
  "language_info": {
   "codemirror_mode": {
    "name": "ipython",
    "version": 3
   },
   "file_extension": ".py",
   "mimetype": "text/x-python",
   "name": "python",
   "nbconvert_exporter": "python",
   "pygments_lexer": "ipython3",
   "version": "3.7.0"
  }
 },
 "nbformat": 4,
 "nbformat_minor": 4
}
