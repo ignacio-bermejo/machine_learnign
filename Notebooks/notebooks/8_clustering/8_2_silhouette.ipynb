{
 "cells": [
  {
   "cell_type": "markdown",
   "metadata": {},
   "source": [
    "## Introducción al Machine Learning\n",
    "### Clustering"
   ]
  },
  {
   "cell_type": "markdown",
   "metadata": {},
   "source": [
    "Este cuaderno muestra un ejemplo de como calcular el coeficiente Silhouette para varios numeros \n",
    "de cluster y así elegir un número adecuado. Además se muestra como hacer un gráfico de Silhouette"
   ]
  },
  {
   "cell_type": "code",
   "execution_count": null,
   "metadata": {},
   "outputs": [],
   "source": [
    "import numpy as np\n",
    "import pandas as pd\n",
    "\n",
    "import matplotlib.pyplot as plt\n",
    "import matplotlib.cm as cm"
   ]
  },
  {
   "cell_type": "code",
   "execution_count": null,
   "metadata": {},
   "outputs": [],
   "source": [
    "import pickle"
   ]
  },
  {
   "cell_type": "markdown",
   "metadata": {},
   "source": [
    "Pickle con las series históricas de los componentes del IBEX35"
   ]
  },
  {
   "cell_type": "code",
   "execution_count": null,
   "metadata": {},
   "outputs": [],
   "source": [
    "with open('../data/stock_data.pkl', 'rb') as handle:\n",
    "    stock_data = pickle.load(handle)"
   ]
  },
  {
   "cell_type": "code",
   "execution_count": null,
   "metadata": {},
   "outputs": [],
   "source": [
    "close_dict = {ticker: df.close for ticker, df in stock_data.items()} \n",
    "close_data = pd.DataFrame(close_dict) "
   ]
  },
  {
   "cell_type": "markdown",
   "metadata": {},
   "source": [
    "Haremos clustering de las empresas del IBEX tomando \n",
    "como características la matriz de correlación de los rendimientos"
   ]
  },
  {
   "cell_type": "code",
   "execution_count": null,
   "metadata": {},
   "outputs": [],
   "source": [
    "close_df = close_data['2018-01-02':]"
   ]
  },
  {
   "cell_type": "code",
   "execution_count": null,
   "metadata": {},
   "outputs": [],
   "source": [
    "close_df = close_df.dropna(axis=1)\n",
    "close_df"
   ]
  },
  {
   "cell_type": "code",
   "execution_count": null,
   "metadata": {},
   "outputs": [],
   "source": [
    "stock_ret = np.log(close_df).diff()[1:]\n",
    "stock_ret.head()"
   ]
  },
  {
   "cell_type": "code",
   "execution_count": null,
   "metadata": {},
   "outputs": [],
   "source": [
    "corr_matrix = stock_ret.corr()\n",
    "corr_matrix"
   ]
  },
  {
   "cell_type": "code",
   "execution_count": null,
   "metadata": {},
   "outputs": [],
   "source": [
    "from sklearn.cluster import KMeans\n",
    "from sklearn.metrics import silhouette_samples, silhouette_score"
   ]
  },
  {
   "cell_type": "code",
   "execution_count": null,
   "metadata": {},
   "outputs": [],
   "source": [
    "features = corr_matrix"
   ]
  },
  {
   "cell_type": "markdown",
   "metadata": {},
   "source": [
    "Un bucle en el que cambiamos el número de clusters.  Hacemos el clustering y almacenamos el coeficiente de Silhouette"
   ]
  },
  {
   "cell_type": "code",
   "execution_count": null,
   "metadata": {},
   "outputs": [],
   "source": [
    "silhouette_avgs = dict()\n",
    "for i_clusters in range(2, 15):\n",
    "    kmeans = KMeans(n_clusters=i_clusters, random_state=10)\n",
    "    cluster_labels = kmeans.fit_predict(features)\n",
    "    silhouette_avgs[i_clusters] = silhouette_score(features, cluster_labels)"
   ]
  },
  {
   "cell_type": "code",
   "execution_count": null,
   "metadata": {},
   "outputs": [],
   "source": [
    "silh_by_clusters = pd.Series(silhouette_avgs)\n",
    "silh_by_clusters"
   ]
  },
  {
   "cell_type": "code",
   "execution_count": null,
   "metadata": {},
   "outputs": [],
   "source": [
    "silh_by_clusters.plot()"
   ]
  },
  {
   "cell_type": "markdown",
   "metadata": {},
   "source": [
    "#### El gráfico de Silhouette"
   ]
  },
  {
   "cell_type": "code",
   "execution_count": null,
   "metadata": {},
   "outputs": [],
   "source": [
    "n_clusters = 10"
   ]
  },
  {
   "cell_type": "code",
   "execution_count": null,
   "metadata": {},
   "outputs": [],
   "source": [
    "fig, ax1 = plt.subplots(figsize=(15,8))\n",
    "\n",
    "# X Valores negativos bajos hasta 1.0\n",
    "# Y Proporcional al numero de clusters y ejemplos\n",
    "ax1.set_xlim([-0.1, 1])\n",
    "ax1.set_ylim([0, features.shape[0] + (n_clusters + 1) * 10])\n",
    "\n",
    "kmeans = KMeans(n_clusters=n_clusters, random_state=10)\n",
    "cluster_labels = kmeans.fit_predict(features)\n",
    "\n",
    "stock_labels = pd.Series(cluster_labels, index=features.columns)\n",
    "\n",
    "# El dictionario con los grupos\n",
    "for i in range(n_clusters):\n",
    "        print(\"Cluster \",i,\":\",list(stock_labels[stock_labels == i].index))\n",
    "\n",
    "silhouette_avg = silhouette_score(features, cluster_labels)\n",
    "\n",
    "print(\"silhouette:\", silhouette_avg)\n",
    "print(\"\")\n",
    "\n",
    "# silhouette scores de cada ejemplo\n",
    "silhouette_values = silhouette_samples(features, cluster_labels)\n",
    "\n",
    "y_lower = 10\n",
    "\n",
    "for i in range(n_clusters):\n",
    "    # agrupar los silhouette scores del cluster y ordenar\n",
    "    i_cluster_sil_values = silhouette_values[cluster_labels == i]\n",
    "    i_cluster_sil_values.sort()\n",
    "\n",
    "    size_cluster_i = i_cluster_sil_values.shape[0]\n",
    "    y_upper = y_lower + size_cluster_i\n",
    "\n",
    "    color = cm.nipy_spectral(float(i) / n_clusters)\n",
    "    ax1.fill_betweenx(np.arange(y_lower, y_upper),\n",
    "                      0, i_cluster_sil_values,\n",
    "                      facecolor=color, edgecolor=color, alpha=0.7)\n",
    "\n",
    "    # Label the silhouette plots with their cluster numbers at the middle\n",
    "    ax1.text(-0.05, y_lower + 0.5 * size_cluster_i, str(i))\n",
    "\n",
    "    # Compute the new y_lower for next plot\n",
    "    y_lower = y_upper + 10  # 10 for the 0 samples\n",
    "\n",
    "ax1.set_title(\"Gráfico Silhouette\")\n",
    "ax1.set_xlabel(\"Coeficiente Silhouette\")\n",
    "ax1.set_ylabel(\"Cluster\")\n",
    "\n",
    "# vertical donde cae el promedio \n",
    "ax1.axvline(x=silhouette_avg, color=\"red\", linestyle=\"--\")\n",
    "\n",
    "ax1.set_yticks([]) \n",
    "plt.show()"
   ]
  },
  {
   "cell_type": "markdown",
   "metadata": {},
   "source": [
    "____"
   ]
  },
  {
   "cell_type": "markdown",
   "metadata": {},
   "source": [
    "### Ejercicio Propuesto"
   ]
  },
  {
   "cell_type": "markdown",
   "metadata": {},
   "source": [
    "1. Probar el gráfico Silhouette para distinto número de clusters\n",
    "2. Probar el clustering utilizando las rentabilidades mensuales en lugar de la matriz de correlación"
   ]
  },
  {
   "cell_type": "code",
   "execution_count": null,
   "metadata": {},
   "outputs": [],
   "source": []
  }
 ],
 "metadata": {
  "kernelspec": {
   "display_name": "Python 3",
   "language": "python",
   "name": "python3"
  },
  "language_info": {
   "codemirror_mode": {
    "name": "ipython",
    "version": 3
   },
   "file_extension": ".py",
   "mimetype": "text/x-python",
   "name": "python",
   "nbconvert_exporter": "python",
   "pygments_lexer": "ipython3",
   "version": "3.7.0"
  }
 },
 "nbformat": 4,
 "nbformat_minor": 4
}
