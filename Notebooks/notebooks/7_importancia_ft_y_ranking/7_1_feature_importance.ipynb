{
 "cells": [
  {
   "cell_type": "markdown",
   "metadata": {},
   "source": [
    "## Introducción al Machine Learning \n",
    "### Importancia de Caracteristicas "
   ]
  },
  {
   "cell_type": "markdown",
   "metadata": {},
   "source": [
    "Este cuaderno muestra un ejemplo de cómo calcular la importancia de las características de un clasificador entrenado"
   ]
  },
  {
   "cell_type": "code",
   "execution_count": null,
   "metadata": {},
   "outputs": [],
   "source": [
    "import numpy as np\n",
    "import pandas as pd\n",
    "\n",
    "import matplotlib.pyplot as plt"
   ]
  },
  {
   "cell_type": "code",
   "execution_count": null,
   "metadata": {},
   "outputs": [],
   "source": [
    "from sklearn.model_selection import train_test_split\n",
    "from sklearn.neighbors import KNeighborsClassifier\n",
    "from sklearn.tree import DecisionTreeClassifier\n",
    "from sklearn.preprocessing import LabelEncoder, MinMaxScaler, StandardScaler\n",
    "from sklearn.metrics import confusion_matrix"
   ]
  },
  {
   "cell_type": "code",
   "execution_count": null,
   "metadata": {},
   "outputs": [],
   "source": [
    "bank = pd.read_csv('../data/bank.csv', sep=\";\")"
   ]
  },
  {
   "cell_type": "code",
   "execution_count": null,
   "metadata": {},
   "outputs": [],
   "source": [
    "features = bank.drop(columns='y')\n",
    "features"
   ]
  },
  {
   "cell_type": "markdown",
   "metadata": {},
   "source": [
    "Hacemos las transformaciones para tener todas las características numéricas\n",
    "- Un ordinal para education\n",
    "- Variables binarias (0-1) para todas las nominales (yes/no)"
   ]
  },
  {
   "cell_type": "code",
   "execution_count": null,
   "metadata": {},
   "outputs": [],
   "source": [
    "educ_mapping = {'unknown':0,\n",
    "                'primary':1,\n",
    "                'secondary':2, \n",
    "                'tertiary':3}\n",
    "features.education.replace(educ_mapping, inplace=True)"
   ]
  },
  {
   "cell_type": "markdown",
   "metadata": {},
   "source": [
    "Podemos hacer el replace sobre todo el dataframe, porque no hay otros valores que coincidan"
   ]
  },
  {
   "cell_type": "code",
   "execution_count": null,
   "metadata": {},
   "outputs": [],
   "source": [
    "yes_no_map = {\n",
    "    'yes': 1,\n",
    "    'no': 0\n",
    "}\n",
    "features.replace(yes_no_map, inplace=True)\n",
    "features.head()"
   ]
  },
  {
   "cell_type": "code",
   "execution_count": null,
   "metadata": {},
   "outputs": [],
   "source": [
    "scale_fts = ['age','balance','day','duration','pdays']\n",
    "features.loc[:, scale_fts] = StandardScaler().fit_transform(features.loc[:,scale_fts])\n",
    "minmax_fts = ['education','campaign','previous']\n",
    "features.loc[:, minmax_fts] = MinMaxScaler().fit_transform(features.loc[:, minmax_fts])\n",
    "features.head()"
   ]
  },
  {
   "cell_type": "markdown",
   "metadata": {},
   "source": [
    "eliminaremos la variable 'month' por un tema de rendimiento"
   ]
  },
  {
   "cell_type": "code",
   "execution_count": null,
   "metadata": {},
   "outputs": [],
   "source": [
    "features.drop('month', axis=1, inplace=True)"
   ]
  },
  {
   "cell_type": "code",
   "execution_count": null,
   "metadata": {},
   "outputs": [],
   "source": [
    "features = pd.get_dummies(features)\n",
    "features.head()"
   ]
  },
  {
   "cell_type": "code",
   "execution_count": null,
   "metadata": {},
   "outputs": [],
   "source": [
    "target = bank.y"
   ]
  },
  {
   "cell_type": "code",
   "execution_count": null,
   "metadata": {},
   "outputs": [],
   "source": [
    "x_train, x_test, y_train, y_test = train_test_split(features,\n",
    "                                                    target,\n",
    "                                                    test_size=0.4,\n",
    "                                                    stratify=target)"
   ]
  },
  {
   "cell_type": "code",
   "execution_count": null,
   "metadata": {},
   "outputs": [],
   "source": [
    "dtree = DecisionTreeClassifier(max_depth=7)\n",
    "_ = dtree.fit(x_train, y_train)"
   ]
  },
  {
   "cell_type": "code",
   "execution_count": null,
   "metadata": {},
   "outputs": [],
   "source": [
    "knn = KNeighborsClassifier(n_neighbors=5)\n",
    "_ = knn.fit(features.values, target)"
   ]
  },
  {
   "cell_type": "code",
   "execution_count": null,
   "metadata": {},
   "outputs": [],
   "source": [
    "knn.predict(x_train)"
   ]
  },
  {
   "cell_type": "markdown",
   "metadata": {},
   "source": [
    "El accuracy de base.  Tomaremos este valor como referencia \n",
    "respecto al cálculo de la importancia de características"
   ]
  },
  {
   "cell_type": "code",
   "execution_count": null,
   "metadata": {},
   "outputs": [],
   "source": [
    "print(dtree.score(x_train, y_train))\n",
    "print(knn.score(x_train, y_train))"
   ]
  },
  {
   "cell_type": "markdown",
   "metadata": {},
   "source": [
    "___"
   ]
  },
  {
   "cell_type": "code",
   "execution_count": null,
   "metadata": {},
   "outputs": [],
   "source": [
    "from sklearn.inspection import permutation_importance"
   ]
  },
  {
   "cell_type": "markdown",
   "metadata": {},
   "source": [
    "Calculamos la importancia de características por permutación utilizando\n",
    "la función disponible en sklearn"
   ]
  },
  {
   "cell_type": "code",
   "execution_count": null,
   "metadata": {},
   "outputs": [],
   "source": [
    "pimp_knn = permutation_importance(knn, x_train, y_train, n_repeats=10)\n",
    "pimp_tree = permutation_importance(dtree, x_train, y_train, n_repeats=10)"
   ]
  },
  {
   "cell_type": "code",
   "execution_count": null,
   "metadata": {},
   "outputs": [],
   "source": [
    "imp_df = pd.DataFrame({'ft': features.columns,\n",
    "                       'tree_mean': pimp_tree.importances_mean,\n",
    "                       'tree_std': pimp_tree.importances_std,\n",
    "                       'knn_mean': pimp_knn.importances_mean,\n",
    "                       'knn_std': pimp_knn.importances_std\n",
    "                      })\n",
    "imp_df.sort_values('tree_mean', ascending=False, inplace=True)"
   ]
  },
  {
   "cell_type": "code",
   "execution_count": null,
   "metadata": {},
   "outputs": [],
   "source": [
    "imp_df_better = imp_df.iloc[:10]"
   ]
  },
  {
   "cell_type": "code",
   "execution_count": null,
   "metadata": {},
   "outputs": [],
   "source": [
    "imp_df_better"
   ]
  },
  {
   "cell_type": "code",
   "execution_count": null,
   "metadata": {},
   "outputs": [],
   "source": [
    "bw=0.25\n",
    "plt.bar(np.arange(imp_df_better.shape[0]),\n",
    "                  imp_df_better.tree_mean,\n",
    "                  yerr=imp_df_better.tree_std,\n",
    "                  width=bw,\n",
    "                  tick_label=imp_df_better.ft,\n",
    "                  )\n",
    "plt.bar(np.arange(imp_df_better.shape[0])+bw,\n",
    "                  imp_df_better.knn_mean,\n",
    "                  yerr=imp_df_better.knn_std,\n",
    "                  width=bw,\n",
    "                  tick_label=imp_df_better.ft)\n",
    "plt.legend(['Tree','Knn'])\n",
    "plt.xticks(rotation=90)"
   ]
  },
  {
   "cell_type": "markdown",
   "metadata": {},
   "source": [
    "___"
   ]
  },
  {
   "cell_type": "markdown",
   "metadata": {},
   "source": [
    "### Ejercicio Propuesto\n",
    "Realizar la importancia de características para el KNN, pero ahora partiendo de las características originales, sólo haciendo la transformación necesaria para las variables dummies\n",
    "- Comparar el resultado\n",
    "- Justificar la diferencia que ocurre por la diferencia de normalización y escalado de algunas características"
   ]
  }
 ],
 "metadata": {
  "kernelspec": {
   "display_name": "Python 3",
   "language": "python",
   "name": "python3"
  },
  "language_info": {
   "codemirror_mode": {
    "name": "ipython",
    "version": 3
   },
   "file_extension": ".py",
   "mimetype": "text/x-python",
   "name": "python",
   "nbconvert_exporter": "python",
   "pygments_lexer": "ipython3",
   "version": "3.7.0"
  }
 },
 "nbformat": 4,
 "nbformat_minor": 4
}
